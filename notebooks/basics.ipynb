{
  "metadata": {
    "language_info": {
      "codemirror_mode": {
        "name": "python",
        "version": 3
      },
      "file_extension": ".py",
      "mimetype": "text/x-python",
      "name": "python",
      "nbconvert_exporter": "python",
      "pygments_lexer": "ipython3",
      "version": "3.8"
    },
    "kernelspec": {
      "name": "python",
      "display_name": "Python (Pyodide)",
      "language": "python"
    }
  },
  "nbformat_minor": 4,
  "nbformat": 4,
  "cells": [
    {
      "cell_type": "markdown",
      "source": "# Les raccourcis clavier Jupyter Lab\nMaj + Entrée : Exécute la cellule et crée une nouvelle cellule  \nEchap + A : Ajouter une cellule au-dessus de la cellule actuelle  \nEchap + B : Ajouter une cellule au-dessous de la cellule actuelle  \nEchap + X : Effacer une cellule \n\nEchap + Y : Convertir la cellule en cellule Python  \nEchap + M : Convertir la cellule en cellule Markdown",
      "metadata": {}
    },
    {
      "cell_type": "markdown",
      "source": "# Ecire du Latex\n$$ x_{x+3} = 5$$",
      "metadata": {}
    },
    {
      "cell_type": "markdown",
      "source": "# Les bases de Python\n## Une instruction en Python",
      "metadata": {}
    },
    {
      "cell_type": "code",
      "source": "prenom = \"Axel\"",
      "metadata": {
        "trusted": true
      },
      "execution_count": 2,
      "outputs": []
    },
    {
      "cell_type": "code",
      "source": "# On peut écrire un commentaire Python\n####  On peut en écrire plusieurs ",
      "metadata": {
        "trusted": true
      },
      "execution_count": 5,
      "outputs": []
    },
    {
      "cell_type": "code",
      "source": "print(pren)",
      "metadata": {
        "trusted": true
      },
      "execution_count": 6,
      "outputs": [
        {
          "ename": "<class 'NameError'>",
          "evalue": "name 'pren' is not defined",
          "traceback": [
            "\u001b[0;31m---------------------------------------------------------------------------\u001b[0m",
            "\u001b[0;31mNameError\u001b[0m                                 Traceback (most recent call last)",
            "Cell \u001b[0;32mIn[6], line 1\u001b[0m\n\u001b[0;32m----> 1\u001b[0m \u001b[38;5;28mprint\u001b[39m(\u001b[43mpren\u001b[49m)\n",
            "\u001b[0;31mNameError\u001b[0m: name 'pren' is not defined"
          ],
          "output_type": "error"
        }
      ]
    },
    {
      "cell_type": "code",
      "source": "print(prenom)",
      "metadata": {
        "trusted": true
      },
      "execution_count": 7,
      "outputs": [
        {
          "name": "stdout",
          "text": "Axel\n",
          "output_type": "stream"
        }
      ]
    },
    {
      "cell_type": "code",
      "source": "print(\"Mon prénom est \" + prenom)",
      "metadata": {
        "trusted": true
      },
      "execution_count": 8,
      "outputs": [
        {
          "name": "stdout",
          "text": "Mon prénom est Axel\n",
          "output_type": "stream"
        }
      ]
    },
    {
      "cell_type": "code",
      "source": "print(f\"Mon prénom est {prenom} \")",
      "metadata": {
        "trusted": true
      },
      "execution_count": 9,
      "outputs": [
        {
          "name": "stdout",
          "text": "Mon prénom est Axel \n",
          "output_type": "stream"
        }
      ]
    },
    {
      "cell_type": "markdown",
      "source": "Quand on met une valeur entre guillemet \"\" on dit à Python de garder cette valeur telle quelle.",
      "metadata": {}
    },
    {
      "cell_type": "code",
      "source": "print(\"prenom\")",
      "metadata": {
        "trusted": true
      },
      "execution_count": 10,
      "outputs": [
        {
          "name": "stdout",
          "text": "prenom\n",
          "output_type": "stream"
        }
      ]
    },
    {
      "cell_type": "code",
      "source": "print(\"        ++++  prenom\")",
      "metadata": {
        "trusted": true
      },
      "execution_count": 11,
      "outputs": [
        {
          "name": "stdout",
          "text": "        ++++  prenom\n",
          "output_type": "stream"
        }
      ]
    },
    {
      "cell_type": "code",
      "source": "",
      "metadata": {},
      "execution_count": null,
      "outputs": []
    }
  ]
}